{
 "cells": [
  {
   "cell_type": "markdown",
   "id": "c01b2485",
   "metadata": {},
   "source": [
    "# How to start bot with ipynb"
   ]
  },
  {
   "cell_type": "markdown",
   "id": "d56cd611",
   "metadata": {
    "jp-MarkdownHeadingCollapsed": true
   },
   "source": [
    "### Download libs"
   ]
  },
  {
   "cell_type": "code",
   "execution_count": null,
   "id": "ed8b3ba0-e197-417c-b7bc-15929471c359",
   "metadata": {},
   "outputs": [],
   "source": [
    "# install detoxify  \n",
    "\n",
    "!pip install detoxify\n"
   ]
  },
  {
   "cell_type": "markdown",
   "id": "e72be30c",
   "metadata": {
    "jp-MarkdownHeadingCollapsed": true
   },
   "source": [
    "### Test. \n",
    "This model support 7 languages [english, french, spanish, italian, portuguese, turkish or russian.] You can get more information on transormer owners github page https://github.com/unitaryai/detoxify?tab=readme-ov-file"
   ]
  },
  {
   "cell_type": "code",
   "execution_count": null,
   "id": "805cf185",
   "metadata": {
    "scrolled": true
   },
   "outputs": [],
   "source": [
    "from detoxify import Detoxify"
   ]
  },
  {
   "cell_type": "code",
   "execution_count": null,
   "id": "f7efd374-6dd4-46b0-97c9-835226b43aac",
   "metadata": {},
   "outputs": [],
   "source": [
    "# each model takes in either a string or a list of strings\n",
    "results = Detoxify('multilingual').predict(['Привет негр сука'])"
   ]
  },
  {
   "cell_type": "code",
   "execution_count": null,
   "id": "98c3b0b7-782d-47d3-994a-66878196ce7e",
   "metadata": {},
   "outputs": [],
   "source": [
    "results"
   ]
  },
  {
   "cell_type": "markdown",
   "id": "c081115f-2a22-48af-931e-db31b2ed73b3",
   "metadata": {},
   "source": [
    "## Script"
   ]
  },
  {
   "cell_type": "code",
   "execution_count": null,
   "id": "dc33a4ce-f00f-4f82-9a8e-873bb12dc62e",
   "metadata": {},
   "outputs": [],
   "source": [
    "import logging\n",
    "import csv\n",
    "from detoxify import Detoxify\n",
    "from telegram import Update\n",
    "from telegram.ext import Application, MessageHandler, ContextTypes, filters\n",
    "import nest_asyncio\n",
    "import asyncio\n",
    "from pathlib import Path\n",
    "from dotenv import load_dotenv\n",
    "import os\n",
    "\n",
    "\"\"\"\n",
    "Это у нас переменные для работы с кодом, и если вы хотите использовать код то не забудьте сделать .env файл для токена вашего бота.\n",
    "These are variables for working with the code, and if you want to use the code, don't forget to make an. env file for your bot's token.\n",
    "\"\"\"\n",
    "LOG_FILE = \"bot_logs.csv\"\n",
    "TOKEN = os.getenv(\"TELEGRAM_TOKEN\")\n",
    "\n",
    "# Проверяем, существует ли файл, если нет — создаем с заголовками\n",
    "if not Path(LOG_FILE).exists():\n",
    "    with open(LOG_FILE, mode=\"w\", newline=\"\", encoding=\"utf-8\") as file:\n",
    "        writer = csv.writer(file)\n",
    "        writer.writerow([\"Timestamp\", \"User_ID\", \"Username\", \"Chat_ID\", \"Chat_Title\", \"Message\", \"Action\", \"Toxic_Categories\"])\n",
    "\n",
    "# Настраиваем логирование для отладки\n",
    "logging.basicConfig(\n",
    "    format=\"%(asctime)s - %(name)s - %(levelname)s - %(message)s\",\n",
    "    level=logging.INFO,\n",
    "    handlers=[logging.StreamHandler()]\n",
    ")\n",
    "logger = logging.getLogger(__name__)\n",
    "\n",
    "# Устанавливаем уровень логирования для httpx и telegram\n",
    "logging.getLogger(\"httpx\").setLevel(logging.WARNING)\n",
    "logging.getLogger(\"telegram\").setLevel(logging.WARNING)\n",
    "\n",
    "\"\"\"\n",
    "В функций для анализа сообщений есть переменная threshold вы можете её изменять по желанию сейчас \n",
    "она стоит 0.5 это означает что сторогость модели 50%.\n",
    "In def analyze_massage you can see threshold variable, You able to change it, but 0,5 the best\n",
    "\"\"\"\n",
    "# Функция для анализа токсичности\n",
    "def analyze_message(message, threshold=0.5): \n",
    "    results = Detoxify('multilingual').predict([message])\n",
    "    toxicity_categories = [\n",
    "        \"toxicity\", \"severe_toxicity\", \"obscene\",\n",
    "        \"identity_attack\", \"insult\", \"threat\", \"sexual_explicit\"\n",
    "    ]\n",
    "    toxic_scores = {key: results[key][0] for key in toxicity_categories}\n",
    "    toxic_flags = {key: score > threshold for key, score in toxic_scores.items()}\n",
    "    is_toxic = any(toxic_flags.values())\n",
    "\n",
    "    if is_toxic:\n",
    "        toxic_details = {key: toxic_scores[key] for key, flag in toxic_flags.items() if flag}\n",
    "        return True, toxic_details\n",
    "    return False, {}\n",
    "\n",
    "# Запись логов в CSV (только для токсичных сообщений)\n",
    "def log_to_csv(user_id, username, chat_id, chat_title, message, action, toxic_categories):\n",
    "    if toxic_categories:  # Логируем только если есть токсичные категории\n",
    "        with open(LOG_FILE, mode=\"a\", newline=\"\", encoding=\"utf-8\") as file:\n",
    "            writer = csv.writer(file)\n",
    "            writer.writerow([\n",
    "                logging.Formatter(\"%(asctime)s\").format(logging.LogRecord(\"\", 0, \"\", 0, \"\", None, None)),\n",
    "                user_id,\n",
    "                username,\n",
    "                chat_id,\n",
    "                chat_title or \"Private Chat\",\n",
    "                message,\n",
    "                action,\n",
    "                \", \".join(toxic_categories)\n",
    "            ])\n",
    "\n",
    "# Обработчик сообщений\n",
    "async def handle_message(update: Update, context: ContextTypes.DEFAULT_TYPE):\n",
    "    user = update.message.from_user\n",
    "    chat = update.effective_chat\n",
    "    message = update.message.text\n",
    "\n",
    "    if not message:  # Если это не текст, игнорируем\n",
    "        return\n",
    "\n",
    "    # Анализируем сообщение\n",
    "    is_toxic, toxic_details = analyze_message(message)\n",
    "    toxic_categories = toxic_details.keys() if is_toxic else []\n",
    "\n",
    "    \"\"\"\n",
    "    Тут мы логируем только токсичные сообщения, но вы можете логирывать все сообщения если по работаете над кодом\n",
    "    \"\"\"\n",
    "    if is_toxic:\n",
    "        log_to_csv(\n",
    "            user_id=user.id,\n",
    "            username=user.username,\n",
    "            chat_id=chat.id,\n",
    "            chat_title=chat.title,\n",
    "            message=message,\n",
    "            action=\"Deleted\",\n",
    "            toxic_categories=toxic_categories\n",
    "        )\n",
    "\n",
    "        # Удаляем токсичное сообщение и отправляем предупреждение\n",
    "        try:\n",
    "            await update.message.delete()\n",
    "            warning = (\n",
    "                f\"Удалено токсичное сообщение от {user.first_name}.\\n\"\n",
    "                f\"Категории токсичности: {', '.join(toxic_categories)}\"\n",
    "            )\n",
    "            await context.bot.send_message(chat_id=chat.id, text=warning)\n",
    "        except Exception as e:\n",
    "            logger.error(f\"Ошибка при удалении сообщения: {e}\")\n",
    "\n",
    "# Основная функция для запуска бота\n",
    "async def main():\n",
    "    application = Application.builder().token(TOKEN).build()\n",
    "    application.add_handler(MessageHandler(filters.TEXT & (~filters.COMMAND), handle_message))\n",
    "    await application.run_polling()\n",
    "\n",
    "if __name__ == \"__main__\":\n",
    "    nest_asyncio.apply()  # Применяем патч для поддержки вложенных циклов asyncio\n",
    "    asyncio.run(main())\n",
    "\"\"\" \n",
    "As you can see this code was written as bilingual but i used russian lang many times than english\n",
    "\"\"\""
   ]
  },
  {
   "cell_type": "markdown",
   "id": "32916270-299f-4a46-bcdd-75cf13b1ecc9",
   "metadata": {},
   "source": [
    "```how csv file looks```"
   ]
  },
  {
   "cell_type": "code",
   "execution_count": null,
   "id": "ffaa135b-7d97-4955-9304-de448d6135b0",
   "metadata": {},
   "outputs": [],
   "source": [
    "\tTimestamp\t             User_ID   Username Chat_ID  \tChat_Title\t         Message\t                        Action Toxic_Categories\n",
    "20\t2025-01-17 23:51:24,119\t7707405675\teralyf\t7707405675\tPrivate Chat\tЯ ебал твой рот, почему ты такой тупой?\tDeleted\ttoxicity"
   ]
  }
 ],
 "metadata": {
  "kernelspec": {
   "display_name": "Python 3 (ipykernel)",
   "language": "python",
   "name": "python3"
  },
  "language_info": {
   "codemirror_mode": {
    "name": "ipython",
    "version": 3
   },
   "file_extension": ".py",
   "mimetype": "text/x-python",
   "name": "python",
   "nbconvert_exporter": "python",
   "pygments_lexer": "ipython3",
   "version": "3.12.3"
  }
 },
 "nbformat": 4,
 "nbformat_minor": 5
}
